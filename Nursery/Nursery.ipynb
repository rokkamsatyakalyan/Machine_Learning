{
 "cells": [
  {
   "cell_type": "markdown",
   "metadata": {},
   "source": [
    "# Nursery School Dataset "
   ]
  },
  {
   "cell_type": "markdown",
   "metadata": {},
   "source": [
    "###  Team Members\n",
    "\n",
    "1. Sharan\n",
    "2. Srikanth\n",
    "3. Kalyan\n"
   ]
  },
  {
   "cell_type": "markdown",
   "metadata": {},
   "source": [
    "Nursery Database was derived from a hierarchical decision model originally developed to rank applications for nursery schools. It was used during several years in 1980's when there was excessive enrollment to these schools in Ljubljana, Slovenia, and the rejected applications frequently needed an objective explanation. The final decision depended on three subproblems: occupation of parents and child's nursery, family structure and financial standing, and social and health picture of the family. The model was developed within expert system shell for decision making DEX"
   ]
  },
  {
   "cell_type": "markdown",
   "metadata": {},
   "source": [
    "Now We will read the data and load it into a dataframe in python."
   ]
  },
  {
   "cell_type": "code",
   "execution_count": 131,
   "metadata": {
    "collapsed": true
   },
   "outputs": [],
   "source": [
    "# Importing the libraries which we need now.\n",
    "\n",
    "\n",
    "import pandas\n",
    "\n",
    "from pandas.plotting import scatter_matrix\n",
    "\n",
    "import matplotlib.pyplot as plt\n",
    "\n",
    "%matplotlib inline\n",
    "\n",
    "# Dataset from - https://archive.ics.uci.edu/ml/datasets/Nursery\n",
    "\n",
    "df = pandas.read_table('nursery.txt', sep=',', header=None, names=['parents', 'has_nurs', 'form', 'children','housing',\n",
    "                                                                   'finance','social','health','class'])\n",
    "\n",
    "\n",
    "\n"
   ]
  },
  {
   "cell_type": "markdown",
   "metadata": {},
   "source": [
    "# Summarizing the Dataset"
   ]
  },
  {
   "cell_type": "markdown",
   "metadata": {},
   "source": [
    "### 1. Dimensions Of the DataSet.\n",
    "\n",
    "We have some data and if we don't know how many features and instances our dataset has, it is of no use. So, we should find the dimensions of the dataset."
   ]
  },
  {
   "cell_type": "code",
   "execution_count": 132,
   "metadata": {},
   "outputs": [
    {
     "name": "stdout",
     "output_type": "stream",
     "text": [
      "(12960, 9)\n"
     ]
    }
   ],
   "source": [
    "# shape attribute gives the dimensions of a dataframe\n",
    "\n",
    "print df.shape\n"
   ]
  },
  {
   "cell_type": "markdown",
   "metadata": {},
   "source": [
    "The above displayed result shows that the dataframe has 12960 rows and 9 colums. It means that we have 9 features and 12960 instances."
   ]
  },
  {
   "cell_type": "markdown",
   "metadata": {},
   "source": [
    "### 2. Looking at the data\n",
    "\n",
    "It's a very good practice to look at your data before you proceed. We can look how our data is structured"
   ]
  },
  {
   "cell_type": "code",
   "execution_count": 133,
   "metadata": {},
   "outputs": [
    {
     "data": {
      "text/html": [
       "<div>\n",
       "<style>\n",
       "    .dataframe thead tr:only-child th {\n",
       "        text-align: right;\n",
       "    }\n",
       "\n",
       "    .dataframe thead th {\n",
       "        text-align: left;\n",
       "    }\n",
       "\n",
       "    .dataframe tbody tr th {\n",
       "        vertical-align: top;\n",
       "    }\n",
       "</style>\n",
       "<table border=\"1\" class=\"dataframe\">\n",
       "  <thead>\n",
       "    <tr style=\"text-align: right;\">\n",
       "      <th></th>\n",
       "      <th>parents</th>\n",
       "      <th>has_nurs</th>\n",
       "      <th>form</th>\n",
       "      <th>children</th>\n",
       "      <th>housing</th>\n",
       "      <th>finance</th>\n",
       "      <th>social</th>\n",
       "      <th>health</th>\n",
       "      <th>class</th>\n",
       "    </tr>\n",
       "  </thead>\n",
       "  <tbody>\n",
       "    <tr>\n",
       "      <th>0</th>\n",
       "      <td>usual</td>\n",
       "      <td>proper</td>\n",
       "      <td>complete</td>\n",
       "      <td>1</td>\n",
       "      <td>convenient</td>\n",
       "      <td>convenient</td>\n",
       "      <td>nonprob</td>\n",
       "      <td>recommended</td>\n",
       "      <td>recommend</td>\n",
       "    </tr>\n",
       "    <tr>\n",
       "      <th>1</th>\n",
       "      <td>usual</td>\n",
       "      <td>proper</td>\n",
       "      <td>complete</td>\n",
       "      <td>1</td>\n",
       "      <td>convenient</td>\n",
       "      <td>convenient</td>\n",
       "      <td>nonprob</td>\n",
       "      <td>priority</td>\n",
       "      <td>priority</td>\n",
       "    </tr>\n",
       "    <tr>\n",
       "      <th>2</th>\n",
       "      <td>usual</td>\n",
       "      <td>proper</td>\n",
       "      <td>complete</td>\n",
       "      <td>1</td>\n",
       "      <td>convenient</td>\n",
       "      <td>convenient</td>\n",
       "      <td>nonprob</td>\n",
       "      <td>not_recom</td>\n",
       "      <td>not_recom</td>\n",
       "    </tr>\n",
       "    <tr>\n",
       "      <th>3</th>\n",
       "      <td>usual</td>\n",
       "      <td>proper</td>\n",
       "      <td>complete</td>\n",
       "      <td>1</td>\n",
       "      <td>convenient</td>\n",
       "      <td>convenient</td>\n",
       "      <td>slightly_prob</td>\n",
       "      <td>recommended</td>\n",
       "      <td>recommend</td>\n",
       "    </tr>\n",
       "    <tr>\n",
       "      <th>4</th>\n",
       "      <td>usual</td>\n",
       "      <td>proper</td>\n",
       "      <td>complete</td>\n",
       "      <td>1</td>\n",
       "      <td>convenient</td>\n",
       "      <td>convenient</td>\n",
       "      <td>slightly_prob</td>\n",
       "      <td>priority</td>\n",
       "      <td>priority</td>\n",
       "    </tr>\n",
       "  </tbody>\n",
       "</table>\n",
       "</div>"
      ],
      "text/plain": [
       "  parents has_nurs      form children     housing     finance         social  \\\n",
       "0   usual   proper  complete        1  convenient  convenient        nonprob   \n",
       "1   usual   proper  complete        1  convenient  convenient        nonprob   \n",
       "2   usual   proper  complete        1  convenient  convenient        nonprob   \n",
       "3   usual   proper  complete        1  convenient  convenient  slightly_prob   \n",
       "4   usual   proper  complete        1  convenient  convenient  slightly_prob   \n",
       "\n",
       "        health      class  \n",
       "0  recommended  recommend  \n",
       "1     priority   priority  \n",
       "2    not_recom  not_recom  \n",
       "3  recommended  recommend  \n",
       "4     priority   priority  "
      ]
     },
     "execution_count": 133,
     "metadata": {},
     "output_type": "execute_result"
    }
   ],
   "source": [
    "# Output printing out first 5 columns\n",
    "\n",
    "df.head()"
   ]
  },
  {
   "cell_type": "markdown",
   "metadata": {},
   "source": [
    "### 3. Summary of our data\n",
    "\n",
    "We can look at the statical summary of every feature. For example, the average of a feature, mean etc."
   ]
  },
  {
   "cell_type": "code",
   "execution_count": 134,
   "metadata": {},
   "outputs": [
    {
     "name": "stdout",
     "output_type": "stream",
     "text": [
      "       parents   has_nurs      form children   housing finance   social  \\\n",
      "count    12960      12960     12960    12960     12960   12960    12960   \n",
      "unique       3          5         4        4         3       2        3   \n",
      "top      usual  very_crit  complete        3  critical  inconv  nonprob   \n",
      "freq      4320       2592      3240     3240      4320    6480     4320   \n",
      "\n",
      "           health      class  \n",
      "count       12960      12960  \n",
      "unique          3          5  \n",
      "top     not_recom  not_recom  \n",
      "freq         4320       4320  \n"
     ]
    }
   ],
   "source": [
    "# The describe function prints the summary of the data\n",
    "\n",
    "print(df.describe())\n"
   ]
  },
  {
   "cell_type": "markdown",
   "metadata": {},
   "source": [
    "\n",
    "***************************************************************************************************************\n",
    "\n",
    "\n",
    "\n",
    "If we look at the above result clearly, we can infer the following. Let us take example of the feature 'parent'\n",
    "\n",
    "count : 12960  (It gives the number of instances of that feature. Here all features have same count. So, we can infer that there         are no missing values.)\n",
    "\n",
    "unique : 3     (This number says that there 3 different categories of feature parent.)\n",
    "\n",
    "top : usual    (This gives the category which occured the highest number of times in a feature)\n",
    "\n",
    "freq : 4320    (This gives the frequency of the top occurence category in that feature.)\n",
    "\n"
   ]
  },
  {
   "cell_type": "markdown",
   "metadata": {},
   "source": [
    "********************************************************************************************************************************"
   ]
  },
  {
   "cell_type": "markdown",
   "metadata": {},
   "source": [
    "### 4. Class distribution\n",
    "\n",
    "We can find out how the data is distributed. Because sometimes we might get some data which may be skewed. This leads to unexpected behaviour of our prediction model. \n",
    "\n"
   ]
  },
  {
   "cell_type": "code",
   "execution_count": 135,
   "metadata": {},
   "outputs": [
    {
     "name": "stdout",
     "output_type": "stream",
     "text": [
      "class\n",
      "not_recom     4320\n",
      "priority      4266\n",
      "recommend        2\n",
      "spec_prior    4044\n",
      "very_recom     328\n",
      "dtype: int64\n",
      "\n",
      "\n",
      "parents\n",
      "great_pret     4320\n",
      "pretentious    4320\n",
      "usual          4320\n",
      "dtype: int64\n",
      "\n",
      "\n",
      "has_nurs\n",
      "critical       2592\n",
      "improper       2592\n",
      "less_proper    2592\n",
      "proper         2592\n",
      "very_crit      2592\n",
      "dtype: int64\n",
      "\n",
      "\n",
      "form\n",
      "complete      3240\n",
      "completed     3240\n",
      "foster        3240\n",
      "incomplete    3240\n",
      "dtype: int64\n",
      "\n",
      "\n",
      "children\n",
      "1       3240\n",
      "2       3240\n",
      "3       3240\n",
      "more    3240\n",
      "dtype: int64\n",
      "\n",
      "\n",
      "housing\n",
      "convenient    4320\n",
      "critical      4320\n",
      "less_conv     4320\n",
      "dtype: int64\n",
      "\n",
      "\n",
      "finance\n",
      "convenient    6480\n",
      "inconv        6480\n",
      "dtype: int64\n",
      "\n",
      "\n",
      "social\n",
      "nonprob          4320\n",
      "problematic      4320\n",
      "slightly_prob    4320\n",
      "dtype: int64\n",
      "\n",
      "\n",
      "health\n",
      "not_recom      4320\n",
      "priority       4320\n",
      "recommended    4320\n",
      "dtype: int64\n"
     ]
    }
   ],
   "source": [
    "# The group by function summarizes a particular feature.\n",
    "\n",
    "print(df.groupby('class').size())\n",
    "print(\"\\n\")\n",
    "print(df.groupby('parents').size())\n",
    "print(\"\\n\")\n",
    "print(df.groupby('has_nurs').size())\n",
    "print(\"\\n\")\n",
    "\n",
    "print(df.groupby('form').size())\n",
    "print(\"\\n\")\n",
    "\n",
    "print(df.groupby('children').size())\n",
    "print(\"\\n\")\n",
    "\n",
    "print(df.groupby('housing').size())\n",
    "print(\"\\n\")\n",
    "\n",
    "print(df.groupby('finance').size())\n",
    "print(\"\\n\")\n",
    "\n",
    "print(df.groupby('social').size())\n",
    "print(\"\\n\")\n",
    "\n",
    "\n",
    "print(df.groupby('health').size())\n",
    "\n",
    "\n",
    "\n",
    "\n"
   ]
  },
  {
   "cell_type": "markdown",
   "metadata": {},
   "source": [
    "****\n",
    "\n",
    "In the above summary data, we ca see that the class feature has 5 different observations.  So, we should look at the data distribution of the expected output for every instance. \n",
    "\n",
    "Here, as we can see, the recommended variable is very less. Almost negligible.  very_recom variable is seen in 328 observations which is not too high but enough to train our machine.\n",
    "\n",
    "\n",
    "The remaining three variables are almost equally distributed. So, we are good to go\n",
    "\n",
    "\n",
    "\n",
    "\n",
    "***"
   ]
  },
  {
   "cell_type": "markdown",
   "metadata": {},
   "source": [
    "## Data Vizualization\n",
    "\n",
    "Now that we have a rough idea of our dataset, we can understand it much better by vizualising it. Data can be vizualised by either Univariate plots or Multivariate plots.\n",
    "\n",
    "Univariate plots helps us in understanding a particular feature. \n",
    "\n",
    "Where as Multivariate plots helps us in understanding the relationship between different features."
   ]
  },
  {
   "cell_type": "markdown",
   "metadata": {},
   "source": [
    "### 1. Univariate plots\n",
    "\n",
    "Now we will start with univariate plots to understand each feature in our dataset. Run the cell below to get the same information."
   ]
  },
  {
   "cell_type": "code",
   "execution_count": 138,
   "metadata": {},
   "outputs": [
    {
     "data": {
      "image/png": "[encoded data removed]",
      "text/plain": [
       "<matplotlib.figure.Figure at 0xe527898>"
      ]
     },
     "metadata": {},
     "output_type": "display_data"
    },
    {
     "data": {
      "image/png": "[encoded data removed]",
      "text/plain": [
       "<matplotlib.figure.Figure at 0xe407710>"
      ]
     },
     "metadata": {},
     "output_type": "display_data"
    },
    {
     "data": {
      "image/png": "[encoded data removed]",
      "text/plain": [
       "<matplotlib.figure.Figure at 0xc9ed7b8>"
      ]
     },
     "metadata": {},
     "output_type": "display_data"
    },
    {
     "data": {
      "image/png": "[encoded data removed]",
      "text/plain": [
       "<matplotlib.figure.Figure at 0xaff3a58>"
      ]
     },
     "metadata": {},
     "output_type": "display_data"
    },
    {
     "data": {
      "image/png": "[encoded data removed]",
      "text/plain": [
       "<matplotlib.figure.Figure at 0xa1f0240>"
      ]
     },
     "metadata": {},
     "output_type": "display_data"
    },
    {
     "data": {
      "image/png": "[encoded data removed]",
      "text/plain": [
       "<matplotlib.figure.Figure at 0xeead9e8>"
      ]
     },
     "metadata": {},
     "output_type": "display_data"
    },
    {
     "data": {
      "image/png": "[encoded data removed]",
      "text/plain": [
       "<matplotlib.figure.Figure at 0xd5cfb70>"
      ]
     },
     "metadata": {},
     "output_type": "display_data"
    },
    {
     "data": {
      "image/png": "[encoded data removed]",
      "text/plain": [
       "<matplotlib.figure.Figure at 0xece4438>"
      ]
     },
     "metadata": {},
     "output_type": "display_data"
    },
    {
     "data": {
      "image/png": "[encoded data removed]",
      "text/plain": [
       "<matplotlib.figure.Figure at 0xc6b3668>"
      ]
     },
     "metadata": {},
     "output_type": "display_data"
    }
   ],
   "source": [
    "plt.rcParams['figure.figsize'] = (5,5)\n",
    "\n",
    "df['parents'].value_counts().plot(kind='bar')\n",
    "plt.title('Parents')\n",
    "plt.show()\n",
    "\n",
    "df['has_nurs'].value_counts().plot(kind='bar')\n",
    "plt.title('has_nurs')\n",
    "plt.show()\n",
    "\n",
    "df['form'].value_counts().plot(kind='bar')\n",
    "plt.title('Form')\n",
    "plt.show()\n",
    "\n",
    "df['children'].value_counts().plot(kind='bar')\n",
    "plt.title('Children')\n",
    "plt.show()\n",
    "\n",
    "df['housing'].value_counts().plot(kind='bar')\n",
    "plt.title('Housing')\n",
    "plt.show()\n",
    "\n",
    "df['finance'].value_counts().plot(kind='bar')\n",
    "plt.title('Finance')\n",
    "plt.show()\n",
    "\n",
    "df['social'].value_counts().plot(kind='bar')\n",
    "plt.title('Social')\n",
    "plt.show()\n",
    "\n",
    "df['health'].value_counts().plot(kind='bar')\n",
    "plt.title('Health')\n",
    "plt.show()\n",
    "\n",
    "df['class'].value_counts().plot(kind='bar')\n",
    "plt.title('Class')\n",
    "plt.show()\n",
    "\n",
    "\n"
   ]
  },
  {
   "cell_type": "markdown",
   "metadata": {},
   "source": [
    "********\n",
    "\n",
    "The above figure contains nine bar graphs. They visualize the distribution of the categorical values of every feature. The categories are on X-axis and the number of observations on the Y-axis. For Example, the parents graph has three categories. They are usual, pretentious, great_pret which are plotted on X-axis.  The Y-axis contains the number of occurances of each category. \n",
    "\n",
    "********"
   ]
  },
  {
   "cell_type": "markdown",
   "metadata": {},
   "source": [
    "## Summary\n",
    "\n",
    "So, we described the feaures of Nursery School data and vizualised it using pandas and matplotlib libraries."
   ]
  },
  {
   "cell_type": "code",
   "execution_count": null,
   "metadata": {
    "collapsed": true
   },
   "outputs": [],
   "source": []
  }
 ],
 "metadata": {
  "celltoolbar": "Raw Cell Format",
  "kernelspec": {
   "display_name": "Python 2",
   "language": "python",
   "name": "python2"
  },
  "language_info": {
   "codemirror_mode": {
    "name": "ipython",
    "version": 2
   },
   "file_extension": ".py",
   "mimetype": "text/x-python",
   "name": "python",
   "nbconvert_exporter": "python",
   "pygments_lexer": "ipython2",
   "version": "2.7.13"
  }
 },
 "nbformat": 4,
 "nbformat_minor": 2
}
